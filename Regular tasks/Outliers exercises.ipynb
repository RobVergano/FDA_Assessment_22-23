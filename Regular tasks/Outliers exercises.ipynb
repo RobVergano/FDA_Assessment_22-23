{
 "cells": [
  {
   "cell_type": "markdown",
   "id": "3a9d35c2",
   "metadata": {},
   "source": [
    "# OUTLIERS EXERCISES"
   ]
  },
  {
   "cell_type": "markdown",
   "id": "e5096780",
   "metadata": {},
   "source": [
    "## EXERCISE 1. "
   ]
  },
  {
   "cell_type": "markdown",
   "id": "1c6a7348",
   "metadata": {},
   "source": [
    "Create box plots on a single set of axes for all five experiments in the morley data set.\n",
    "\n",
    "***"
   ]
  },
  {
   "cell_type": "code",
   "execution_count": 1,
   "id": "409fb84b",
   "metadata": {},
   "outputs": [],
   "source": [
    "# Python libraries:\n",
    "# Pandas for reading and manipulate the datasets\n",
    "import pandas as pd\n",
    "# Seaborn and matplotlib for data visualization. \n",
    "import seaborn as sns\n",
    "import matplotlib.pyplot as plt\n",
    "# Numpy to work with arrays. \n",
    "import numpy as np"
   ]
  },
  {
   "cell_type": "code",
   "execution_count": 2,
   "id": "d12049d8",
   "metadata": {
    "scrolled": true
   },
   "outputs": [
    {
     "data": {
      "text/plain": [
       "[Text(0.5, 1.0, 'Morley dataset'),\n",
       " Text(0, 0.5, 'Speed of light (Km/s minus 299,000)')]"
      ]
     },
     "execution_count": 2,
     "metadata": {},
     "output_type": "execute_result"
    },
    {
     "data": {
      "image/png": "[encoded data removed]",
      "text/plain": [
       "<Figure size 432x288 with 1 Axes>"
      ]
     },
     "metadata": {
      "needs_background": "light"
     },
     "output_type": "display_data"
    }
   ],
   "source": [
    "# First we download the Morley dataset as a csv file (1)\n",
    "\n",
    "# pd.read to open the csv file.(2)\n",
    "m = pd.read_csv(\"morley.csv\")\n",
    "\n",
    "# We extract the experiment and speed columns from the morley dataset, creating a subset \"ds\".(3)\n",
    "ds = m[[\"Expt\",\"Speed\"]]\n",
    "\n",
    "# We create a subset for the speeds for each experiment based on the experiment number.(4)\n",
    "ex1 = ds.loc[(ds[\"Expt\"]==1)]\n",
    "ex2 = ds.loc[(ds[\"Expt\"]==2)]\n",
    "ex3 = ds.loc[(ds[\"Expt\"]==3)]\n",
    "ex4 = ds.loc[(ds[\"Expt\"]==4)]\n",
    "ex5 = ds.loc[(ds[\"Expt\"]==5)]\n",
    "\n",
    "# np.array to create an array of speeds for each experiment.(5)\n",
    "a = np.array(ex1[\"Speed\"])\n",
    "b = np.array(ex2[\"Speed\"])\n",
    "c = np.array(ex3[\"Speed\"])\n",
    "d = np.array(ex4[\"Speed\"])\n",
    "e = np.array(ex5[\"Speed\"])\n",
    "\n",
    "# pd.DataFrame to create a two-dimensional dataframe.(6)\n",
    "df = pd.DataFrame({\"Exp 1\":a, \"Exp 2\":b,\"Exp 3\":c,\"Exp 4\":d,\"Exp 5\":e})\n",
    "\n",
    "# sns.boxplot to create the box plot.(7)\n",
    "sns.boxplot(data=df).set(title=\"Morley dataset\", ylabel=\"Speed of light (Km/s minus 299,000)\")\n",
    "                              "
   ]
  },
  {
   "cell_type": "markdown",
   "id": "173d894b",
   "metadata": {},
   "source": [
    "**REFERENCES**"
   ]
  },
  {
   "cell_type": "markdown",
   "id": "128b763a",
   "metadata": {},
   "source": [
    "(1) https://vincentarelbundock.github.io/Rdatasets/datasets.html  \n",
    "(2) https://pandas.pydata.org/docs/reference/api/pandas.read_csv.html  \n",
    "(3) https://pandas.pydata.org/docs/getting_started/intro_tutorials/03_subset_data.html  \n",
    "(4) https://pandas.pydata.org/docs/reference/api/pandas.DataFrame.loc.html  \n",
    "(5) https://numpy.org/doc/stable/reference/generated/numpy.array.html  \n",
    "(6) https://pandas.pydata.org/docs/reference/api/pandas.DataFrame.html  \n",
    "(7) https://seaborn.pydata.org/generated/seaborn.boxplot.html  "
   ]
  },
  {
   "cell_type": "markdown",
   "id": "9a84d239",
   "metadata": {},
   "source": [
    "## EXERCISE 2."
   ]
  },
  {
   "cell_type": "markdown",
   "id": "dfd3586f",
   "metadata": {},
   "source": [
    "Create box plots for all of the numercial variables in Fisher's Iris Data Set.\n",
    "\n",
    "***"
   ]
  },
  {
   "cell_type": "code",
   "execution_count": 3,
   "id": "badbaec3",
   "metadata": {},
   "outputs": [],
   "source": [
    "# Python libraries:\n",
    "# Pandas for reading and manipulate the datasets\n",
    "import pandas as pd\n",
    "# Seaborn and matplotlib for data visualization. \n",
    "import seaborn as sns\n",
    "import matplotlib.pyplot as plt\n",
    "# Numpy to work with arrays. \n",
    "import numpy as np"
   ]
  },
  {
   "cell_type": "markdown",
   "id": "cb341b36",
   "metadata": {},
   "source": [
    "**Box plots for each feature regardless the class**"
   ]
  },
  {
   "cell_type": "code",
   "execution_count": 22,
   "id": "c49175ce",
   "metadata": {
    "scrolled": true
   },
   "outputs": [
    {
     "data": {
      "text/plain": [
       "[Text(0.5, 1.0, \"Box plots for all of the numercial variables in Fisher's Iris Data Set.\")]"
      ]
     },
     "execution_count": 22,
     "metadata": {},
     "output_type": "execute_result"
    },
    {
     "data": {
      "image/png": "[encoded data removed]",
      "text/plain": [
       "<Figure size 432x288 with 1 Axes>"
      ]
     },
     "metadata": {
      "needs_background": "light"
     },
     "output_type": "display_data"
    }
   ],
   "source": [
    "# First we export the iris dataset.(1)\n",
    "iris = pd.read_csv(\"iris.csv\")\n",
    "\n",
    "#We create a subset for each variable.(2)\n",
    "# np.array to create an array for each variable.(3)\n",
    "sl = np.array(iris[\"Sepal.Length\"])\n",
    "sw = np.array(iris[\"Sepal.Width\"])\n",
    "pl = np.array(iris[\"Petal.Length\"])\n",
    "pw = np.array(iris[\"Petal.Width\"])\n",
    "\n",
    "# pd.DataFrame to create a two-dimensional dataframe.(4)\n",
    "df = pd.DataFrame({\"Sepal length\":sl, \"Sepal width\":sw,\"Petal length\":pl,\"Petal width\":pw})\n",
    "\n",
    "# sns.boxplot to create the box plot.(5)\n",
    "sns.boxplot(data=df).set(title=\"Box plots for all of the numercial variables in Fisher's Iris Data Set.\")b"
   ]
  },
  {
   "cell_type": "markdown",
   "id": "075e9686",
   "metadata": {},
   "source": [
    "**Box plots for each feature per class**"
   ]
  },
  {
   "cell_type": "code",
   "execution_count": 116,
   "id": "2834f033",
   "metadata": {},
   "outputs": [
    {
     "data": {
      "image/png": "[encoded data removed]",
      "text/plain": [
       "<Figure size 720x1440 with 3 Axes>"
      ]
     },
     "metadata": {
      "needs_background": "light"
     },
     "output_type": "display_data"
    }
   ],
   "source": [
    "# First we are going to slice the dataset per class (setosa = st, versicolor = vc, virginica =vg). (6)\n",
    "st = iris[0:50]\n",
    "vc = iris[50:100]\n",
    "vg = iris[100:150]\n",
    "\n",
    "# Same as we did before, we are going to create a subset and an array of data for each feature in each class.(2)(3)\n",
    "st_sl = np.array(st[\"Sepal.Length\"])\n",
    "st_sw = np.array(st[\"Sepal.Width\"])\n",
    "st_pl = np.array(st[\"Petal.Length\"])\n",
    "st_pw = np.array(st[\"Petal.Width\"])\n",
    "\n",
    "vc_sl = np.array(vc[\"Sepal.Length\"])\n",
    "vc_sw = np.array(vc[\"Sepal.Width\"])\n",
    "vc_pl = np.array(vc[\"Petal.Length\"])\n",
    "vc_pw = np.array(vc[\"Petal.Width\"])\n",
    "\n",
    "vg_sl = np.array(vg[\"Sepal.Length\"])\n",
    "vg_sw = np.array(vg[\"Sepal.Width\"])\n",
    "vg_pl = np.array(vg[\"Petal.Length\"])\n",
    "vg_pw = np.array(vg[\"Petal.Width\"])\n",
    "\n",
    "# Then we create the dataframe for each class.(4)\n",
    "setosa = pd.DataFrame({\"Sepal length\":st_sl, \"Sepal width\":st_sw,\"Petal length\":st_pl,\"Petal width\":st_pw})\n",
    "versicolor = pd.DataFrame({\"Sepal length\":vc_sl, \"Sepal width\":vc_sw,\"Petal length\":vc_pl,\"Petal width\":vc_pw})\n",
    "virginica = pd.DataFrame({\"Sepal length\":vg_sl, \"Sepal width\":vg_sw,\"Petal length\":vg_pl,\"Petal width\":vg_pw})\n",
    "\n",
    "# plt.subplots to plot the 3 box plots together.(7)\n",
    "fig, ax = plt.subplots(3,figsize=(10,20))\n",
    "\n",
    "# Add a title to the figure (8):\n",
    "fig.suptitle(\"Box plots for each feature per class\", fontsize =15, y=1)\n",
    "\n",
    "# Add titles to each box plot:\n",
    "ax[0].set_title(\"Setosa\",fontsize =15)\n",
    "ax[1].set_title(\"Versicolor\",fontsize =15)\n",
    "ax[2].set_title(\"Virginica\",fontsize =15)\n",
    "\n",
    "\n",
    "# sns.boxplot to create the box plot.(5)\n",
    "sns.boxplot(ax=ax[0], data=setosa)\n",
    "sns.boxplot(ax=ax[1], data=versicolor)\n",
    "sns.boxplot(ax=ax[2], data=virginica)\n",
    "\n",
    "# To adjust the padding between and around subplots.(9)\n",
    "plt.tight_layout()"
   ]
  },
  {
   "cell_type": "markdown",
   "id": "6b98b446",
   "metadata": {},
   "source": [
    "**REFERENCES**"
   ]
  },
  {
   "cell_type": "markdown",
   "id": "129ce275",
   "metadata": {},
   "source": [
    "(1) https://vincentarelbundock.github.io/Rdatasets/datasets.html  \n",
    "(2) https://pandas.pydata.org/docs/reference/api/pandas.DataFrame.loc.html  \n",
    "(3) https://numpy.org/doc/stable/reference/generated/numpy.array.html  \n",
    "(4) https://pandas.pydata.org/docs/reference/api/pandas.DataFrame.html  \n",
    "(5) https://seaborn.pydata.org/generated/seaborn.boxplot.html  \n",
    "(6) https://pandas.pydata.org/docs/user_guide/indexing.html  \n",
    "(7) https://matplotlib.org/stable/api/_as_gen/matplotlib.pyplot.subplots.html  \n",
    "(8) https://stackoverflow.com/questions/55767312/how-to-position-suptitle  \n",
    "(9) https://matplotlib.org/stable/api/_as_gen/matplotlib.pyplot.tight_layout.html  "
   ]
  },
  {
   "cell_type": "code",
   "execution_count": null,
   "id": "908322c4",
   "metadata": {},
   "outputs": [],
   "source": []
  }
 ],
 "metadata": {
  "kernelspec": {
   "display_name": "Python 3 (ipykernel)",
   "language": "python",
   "name": "python3"
  },
  "language_info": {
   "codemirror_mode": {
    "name": "ipython",
    "version": 3
   },
   "file_extension": ".py",
   "mimetype": "text/x-python",
   "name": "python",
   "nbconvert_exporter": "python",
   "pygments_lexer": "ipython3",
   "version": "3.9.7"
  }
 },
 "nbformat": 4,
 "nbformat_minor": 5
}

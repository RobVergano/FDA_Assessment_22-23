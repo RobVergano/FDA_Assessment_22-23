{
 "cells": [
  {
   "cell_type": "markdown",
   "id": "3a9d35c2",
   "metadata": {},
   "source": [
    "# OUTLIERS EXERCISES"
   ]
  },
  {
   "cell_type": "markdown",
   "id": "e5096780",
   "metadata": {},
   "source": [
    "## EXERCISE 1. "
   ]
  },
  {
   "cell_type": "markdown",
   "id": "1c6a7348",
   "metadata": {},
   "source": [
    "Create box plots on a single set of axes for all five experiments in the morley data set.\n",
    "\n",
    "***"
   ]
  },
  {
   "cell_type": "code",
   "execution_count": 133,
   "id": "409fb84b",
   "metadata": {},
   "outputs": [],
   "source": [
    "# Python libraries:\n",
    "# Pandas for reading and manipulate the datasets\n",
    "import pandas as pd\n",
    "# Seaborn and matplotlib for data visualization. \n",
    "import seaborn as sns\n",
    "import matplotlib.pyplot as plt\n",
    "# Numpy to work with arrays. \n",
    "import numpy as np"
   ]
  },
  {
   "cell_type": "code",
   "execution_count": 134,
   "id": "d12049d8",
   "metadata": {
    "scrolled": true
   },
   "outputs": [
    {
     "data": {
      "text/plain": [
       "[Text(0.5, 1.0, 'Morley dataset'),\n",
       " Text(0, 0.5, 'Speed of light (Km/s minus 299,000)')]"
      ]
     },
     "execution_count": 134,
     "metadata": {},
     "output_type": "execute_result"
    },
    {
     "data": {
      "image/png": "[encoded data removed]",
      "text/plain": [
       "<Figure size 432x288 with 1 Axes>"
      ]
     },
     "metadata": {},
     "output_type": "display_data"
    }
   ],
   "source": [
    "# First we download the Morley dataset as a csv file (1)\n",
    "\n",
    "# pd.read to open the csv file.(2)\n",
    "m = pd.read_csv(\"morley.csv\")\n",
    "\n",
    "# We extract the experiment and speed columns from the morley dataset, creating a subset \"ds\".(3)\n",
    "ds = m[[\"Expt\",\"Speed\"]]\n",
    "\n",
    "# We create a subset for the speeds for each experiment based on the experiment number.(4)\n",
    "ex1 = ds.loc[(ds[\"Expt\"]==1)]\n",
    "ex2 = ds.loc[(ds[\"Expt\"]==2)]\n",
    "ex3 = ds.loc[(ds[\"Expt\"]==3)]\n",
    "ex4 = ds.loc[(ds[\"Expt\"]==4)]\n",
    "ex5 = ds.loc[(ds[\"Expt\"]==5)]\n",
    "\n",
    "# np.array to create an array of speeds for each experiment.(5)\n",
    "a = np.array(ex1[\"Speed\"])\n",
    "b = np.array(ex2[\"Speed\"])\n",
    "c = np.array(ex3[\"Speed\"])\n",
    "d = np.array(ex4[\"Speed\"])\n",
    "e = np.array(ex5[\"Speed\"])\n",
    "\n",
    "# pd.DataFrame to create a two-dimensional dataframe.(6)\n",
    "df = pd.DataFrame({\"Exp 1\":a, \"Exp 2\":b,\"Exp 3\":c,\"Exp 4\":d,\"Exp 5\":e})\n",
    "\n",
    "# sns.boxplot to create the box plot.(7)\n",
    "sns.boxplot(data=df).set(title=\"Morley dataset\", ylabel=\"Speed of light (Km/s minus 299,000)\")\n",
    "                              "
   ]
  },
  {
   "cell_type": "markdown",
   "id": "173d894b",
   "metadata": {},
   "source": [
    "**REFERENCES**"
   ]
  },
  {
   "cell_type": "markdown",
   "id": "128b763a",
   "metadata": {},
   "source": [
    "(1) https://vincentarelbundock.github.io/Rdatasets/datasets.html  \n",
    "(2) https://pandas.pydata.org/docs/reference/api/pandas.read_csv.html  \n",
    "(3) https://pandas.pydata.org/docs/getting_started/intro_tutorials/03_subset_data.html  \n",
    "(4) https://pandas.pydata.org/docs/reference/api/pandas.DataFrame.loc.html  \n",
    "(5) https://numpy.org/doc/stable/reference/generated/numpy.array.html  \n",
    "(6) https://pandas.pydata.org/docs/reference/api/pandas.DataFrame.html  \n",
    "(7) https://seaborn.pydata.org/generated/seaborn.boxplot.html  "
   ]
  },
  {
   "cell_type": "code",
   "execution_count": null,
   "id": "a1d30984",
   "metadata": {},
   "outputs": [],
   "source": []
  }
 ],
 "metadata": {
  "kernelspec": {
   "display_name": "Python 3 (ipykernel)",
   "language": "python",
   "name": "python3"
  },
  "language_info": {
   "codemirror_mode": {
    "name": "ipython",
    "version": 3
   },
   "file_extension": ".py",
   "mimetype": "text/x-python",
   "name": "python",
   "nbconvert_exporter": "python",
   "pygments_lexer": "ipython3",
   "version": "3.9.7"
  }
 },
 "nbformat": 4,
 "nbformat_minor": 5
}

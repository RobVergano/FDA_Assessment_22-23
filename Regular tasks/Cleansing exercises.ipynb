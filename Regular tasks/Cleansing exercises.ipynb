{
 "cells": [
  {
   "cell_type": "markdown",
   "id": "63f30020",
   "metadata": {},
   "source": [
    "# CLEANSING EXERCISES"
   ]
  },
  {
   "cell_type": "markdown",
   "id": "c47ca5c3",
   "metadata": {},
   "source": [
    "## EXERCISE 1."
   ]
  },
  {
   "cell_type": "markdown",
   "id": "f018c820",
   "metadata": {},
   "source": [
    "Write a Python function to remove all non-alphanumeric characters from a string.\n",
    "\n",
    "***"
   ]
  },
  {
   "cell_type": "code",
   "execution_count": 1,
   "id": "d9110de4",
   "metadata": {},
   "outputs": [],
   "source": [
    "# Regex module:\n",
    "import re"
   ]
  },
  {
   "cell_type": "code",
   "execution_count": 2,
   "id": "40e73e04",
   "metadata": {},
   "outputs": [
    {
     "data": {
      "text/plain": [
       "'test'"
      ]
     },
     "execution_count": 2,
     "metadata": {},
     "output_type": "execute_result"
    }
   ],
   "source": [
    "# String we are going to test:\n",
    "string = \",,,test--··--///)))\"\n",
    "\n",
    "# Function to be tested:\n",
    "def function():\n",
    "    # pattern used:\n",
    "    # \"r\" to take whole string.\n",
    "    # \"[]\" to indicate the range\n",
    "    # \"^\" matches the start of the string\n",
    "    # \"A-Za-z0-9\" indicates the characters wanted\n",
    "    # \"+\" attemps to match as many repetitions as possible.\n",
    "    pattern = r'[^A-Za-z0-9]+'  \n",
    "    # \"re.sub\" function to search for the pattern in the string and replace the matched strings with the replacement(\"\") \n",
    "    sample = re.sub(pattern,\"\", string)\n",
    "    return sample  \n",
    "\n",
    "function()"
   ]
  },
  {
   "cell_type": "markdown",
   "id": "05f44d41",
   "metadata": {},
   "source": [
    "**REFERENCES**"
   ]
  },
  {
   "cell_type": "markdown",
   "id": "6b35dfba",
   "metadata": {},
   "source": [
    "(1) https://thispointer.com/python-remove-all-non-alphanumeric-characters-from-string/  \n",
    "(2) https://docs.python.org/3/library/re.html  \n",
    "(3) https://www.pythontutorial.net/python-regex/python-regex-sub/  "
   ]
  },
  {
   "cell_type": "markdown",
   "id": "d1e8d36f",
   "metadata": {},
   "source": [
    "## EXERCISE 2."
   ]
  },
  {
   "cell_type": "markdown",
   "id": "91bc86a4",
   "metadata": {},
   "source": [
    "Adapt the code below to capitalise the first letter of the iris species, using regular expressions.\n",
    "\n",
    "***"
   ]
  },
  {
   "cell_type": "code",
   "execution_count": 24,
   "id": "a0573adb",
   "metadata": {},
   "outputs": [],
   "source": [
    "# Code to adapt:\n",
    "\n",
    "import urllib.request\n",
    "\n",
    "url = r'https://archive.ics.uci.edu/ml/machine-learning-databases/iris/iris.data'\n",
    "\n",
    "iris = [line.decode('utf-8').strip() for line in urllib.request.urlopen(url)]\n",
    "\n",
    "strip_iris = re.compile(r'([0-9]\\.[0-9]),([0-9]\\.[0-9]),([0-9]\\.[0-9]),([0-9]\\.[0-9]),Iris-([a-z]+)')\n",
    "\n",
    "iris2 = [strip_iris.sub(r'\\5,\\4,\\3,\\2,\\1', line) for line in iris if line]"
   ]
  },
  {
   "cell_type": "code",
   "execution_count": 25,
   "id": "953cdfaf",
   "metadata": {},
   "outputs": [],
   "source": [
    "# We are going to create a function called \"cap\".\n",
    "# This function will take any string and capitalize the first letter. \n",
    "\n",
    "def cap(string):\n",
    "    # \"group()\"Return the string matched by the RE.(1)\n",
    "    s = string.group()\n",
    "    # \"isalpha()\" returns True if all the characters are alphabet letters (a-z).(2)\n",
    "    if s.isalpha():\n",
    "        # \"capitalize()\" returns a string where the first character is upper case, and the rest is lower case.(3)\n",
    "        return s.capitalize()"
   ]
  },
  {
   "cell_type": "code",
   "execution_count": 27,
   "id": "2d111259",
   "metadata": {},
   "outputs": [
    {
     "data": {
      "text/plain": [
       "['Setosa,0.2,1.4,3.5,5.1',\n",
       " 'Setosa,0.2,1.4,3.0,4.9',\n",
       " 'Setosa,0.2,1.3,3.2,4.7',\n",
       " 'Setosa,0.2,1.5,3.1,4.6',\n",
       " 'Setosa,0.2,1.4,3.6,5.0',\n",
       " 'Setosa,0.4,1.7,3.9,5.4',\n",
       " 'Setosa,0.3,1.4,3.4,4.6',\n",
       " 'Setosa,0.2,1.5,3.4,5.0',\n",
       " 'Setosa,0.2,1.4,2.9,4.4',\n",
       " 'Setosa,0.1,1.5,3.1,4.9',\n",
       " 'Setosa,0.2,1.5,3.7,5.4',\n",
       " 'Setosa,0.2,1.6,3.4,4.8',\n",
       " 'Setosa,0.1,1.4,3.0,4.8',\n",
       " 'Setosa,0.1,1.1,3.0,4.3',\n",
       " 'Setosa,0.2,1.2,4.0,5.8',\n",
       " 'Setosa,0.4,1.5,4.4,5.7',\n",
       " 'Setosa,0.4,1.3,3.9,5.4',\n",
       " 'Setosa,0.3,1.4,3.5,5.1',\n",
       " 'Setosa,0.3,1.7,3.8,5.7',\n",
       " 'Setosa,0.3,1.5,3.8,5.1',\n",
       " 'Setosa,0.2,1.7,3.4,5.4',\n",
       " 'Setosa,0.4,1.5,3.7,5.1',\n",
       " 'Setosa,0.2,1.0,3.6,4.6',\n",
       " 'Setosa,0.5,1.7,3.3,5.1',\n",
       " 'Setosa,0.2,1.9,3.4,4.8',\n",
       " 'Setosa,0.2,1.6,3.0,5.0',\n",
       " 'Setosa,0.4,1.6,3.4,5.0',\n",
       " 'Setosa,0.2,1.5,3.5,5.2',\n",
       " 'Setosa,0.2,1.4,3.4,5.2',\n",
       " 'Setosa,0.2,1.6,3.2,4.7',\n",
       " 'Setosa,0.2,1.6,3.1,4.8',\n",
       " 'Setosa,0.4,1.5,3.4,5.4',\n",
       " 'Setosa,0.1,1.5,4.1,5.2',\n",
       " 'Setosa,0.2,1.4,4.2,5.5',\n",
       " 'Setosa,0.1,1.5,3.1,4.9',\n",
       " 'Setosa,0.2,1.2,3.2,5.0',\n",
       " 'Setosa,0.2,1.3,3.5,5.5',\n",
       " 'Setosa,0.1,1.5,3.1,4.9',\n",
       " 'Setosa,0.2,1.3,3.0,4.4',\n",
       " 'Setosa,0.2,1.5,3.4,5.1',\n",
       " 'Setosa,0.3,1.3,3.5,5.0',\n",
       " 'Setosa,0.3,1.3,2.3,4.5',\n",
       " 'Setosa,0.2,1.3,3.2,4.4',\n",
       " 'Setosa,0.6,1.6,3.5,5.0',\n",
       " 'Setosa,0.4,1.9,3.8,5.1',\n",
       " 'Setosa,0.3,1.4,3.0,4.8',\n",
       " 'Setosa,0.2,1.6,3.8,5.1',\n",
       " 'Setosa,0.2,1.4,3.2,4.6',\n",
       " 'Setosa,0.2,1.5,3.7,5.3',\n",
       " 'Setosa,0.2,1.4,3.3,5.0',\n",
       " 'Versicolor,1.4,4.7,3.2,7.0',\n",
       " 'Versicolor,1.5,4.5,3.2,6.4',\n",
       " 'Versicolor,1.5,4.9,3.1,6.9',\n",
       " 'Versicolor,1.3,4.0,2.3,5.5',\n",
       " 'Versicolor,1.5,4.6,2.8,6.5',\n",
       " 'Versicolor,1.3,4.5,2.8,5.7',\n",
       " 'Versicolor,1.6,4.7,3.3,6.3',\n",
       " 'Versicolor,1.0,3.3,2.4,4.9',\n",
       " 'Versicolor,1.3,4.6,2.9,6.6',\n",
       " 'Versicolor,1.4,3.9,2.7,5.2',\n",
       " 'Versicolor,1.0,3.5,2.0,5.0',\n",
       " 'Versicolor,1.5,4.2,3.0,5.9',\n",
       " 'Versicolor,1.0,4.0,2.2,6.0',\n",
       " 'Versicolor,1.4,4.7,2.9,6.1',\n",
       " 'Versicolor,1.3,3.6,2.9,5.6',\n",
       " 'Versicolor,1.4,4.4,3.1,6.7',\n",
       " 'Versicolor,1.5,4.5,3.0,5.6',\n",
       " 'Versicolor,1.0,4.1,2.7,5.8',\n",
       " 'Versicolor,1.5,4.5,2.2,6.2',\n",
       " 'Versicolor,1.1,3.9,2.5,5.6',\n",
       " 'Versicolor,1.8,4.8,3.2,5.9',\n",
       " 'Versicolor,1.3,4.0,2.8,6.1',\n",
       " 'Versicolor,1.5,4.9,2.5,6.3',\n",
       " 'Versicolor,1.2,4.7,2.8,6.1',\n",
       " 'Versicolor,1.3,4.3,2.9,6.4',\n",
       " 'Versicolor,1.4,4.4,3.0,6.6',\n",
       " 'Versicolor,1.4,4.8,2.8,6.8',\n",
       " 'Versicolor,1.7,5.0,3.0,6.7',\n",
       " 'Versicolor,1.5,4.5,2.9,6.0',\n",
       " 'Versicolor,1.0,3.5,2.6,5.7',\n",
       " 'Versicolor,1.1,3.8,2.4,5.5',\n",
       " 'Versicolor,1.0,3.7,2.4,5.5',\n",
       " 'Versicolor,1.2,3.9,2.7,5.8',\n",
       " 'Versicolor,1.6,5.1,2.7,6.0',\n",
       " 'Versicolor,1.5,4.5,3.0,5.4',\n",
       " 'Versicolor,1.6,4.5,3.4,6.0',\n",
       " 'Versicolor,1.5,4.7,3.1,6.7',\n",
       " 'Versicolor,1.3,4.4,2.3,6.3',\n",
       " 'Versicolor,1.3,4.1,3.0,5.6',\n",
       " 'Versicolor,1.3,4.0,2.5,5.5',\n",
       " 'Versicolor,1.2,4.4,2.6,5.5',\n",
       " 'Versicolor,1.4,4.6,3.0,6.1',\n",
       " 'Versicolor,1.2,4.0,2.6,5.8',\n",
       " 'Versicolor,1.0,3.3,2.3,5.0',\n",
       " 'Versicolor,1.3,4.2,2.7,5.6',\n",
       " 'Versicolor,1.2,4.2,3.0,5.7',\n",
       " 'Versicolor,1.3,4.2,2.9,5.7',\n",
       " 'Versicolor,1.3,4.3,2.9,6.2',\n",
       " 'Versicolor,1.1,3.0,2.5,5.1',\n",
       " 'Versicolor,1.3,4.1,2.8,5.7',\n",
       " 'Virginica,2.5,6.0,3.3,6.3',\n",
       " 'Virginica,1.9,5.1,2.7,5.8',\n",
       " 'Virginica,2.1,5.9,3.0,7.1',\n",
       " 'Virginica,1.8,5.6,2.9,6.3',\n",
       " 'Virginica,2.2,5.8,3.0,6.5',\n",
       " 'Virginica,2.1,6.6,3.0,7.6',\n",
       " 'Virginica,1.7,4.5,2.5,4.9',\n",
       " 'Virginica,1.8,6.3,2.9,7.3',\n",
       " 'Virginica,1.8,5.8,2.5,6.7',\n",
       " 'Virginica,2.5,6.1,3.6,7.2',\n",
       " 'Virginica,2.0,5.1,3.2,6.5',\n",
       " 'Virginica,1.9,5.3,2.7,6.4',\n",
       " 'Virginica,2.1,5.5,3.0,6.8',\n",
       " 'Virginica,2.0,5.0,2.5,5.7',\n",
       " 'Virginica,2.4,5.1,2.8,5.8',\n",
       " 'Virginica,2.3,5.3,3.2,6.4',\n",
       " 'Virginica,1.8,5.5,3.0,6.5',\n",
       " 'Virginica,2.2,6.7,3.8,7.7',\n",
       " 'Virginica,2.3,6.9,2.6,7.7',\n",
       " 'Virginica,1.5,5.0,2.2,6.0',\n",
       " 'Virginica,2.3,5.7,3.2,6.9',\n",
       " 'Virginica,2.0,4.9,2.8,5.6',\n",
       " 'Virginica,2.0,6.7,2.8,7.7',\n",
       " 'Virginica,1.8,4.9,2.7,6.3',\n",
       " 'Virginica,2.1,5.7,3.3,6.7',\n",
       " 'Virginica,1.8,6.0,3.2,7.2',\n",
       " 'Virginica,1.8,4.8,2.8,6.2',\n",
       " 'Virginica,1.8,4.9,3.0,6.1',\n",
       " 'Virginica,2.1,5.6,2.8,6.4',\n",
       " 'Virginica,1.6,5.8,3.0,7.2',\n",
       " 'Virginica,1.9,6.1,2.8,7.4',\n",
       " 'Virginica,2.0,6.4,3.8,7.9',\n",
       " 'Virginica,2.2,5.6,2.8,6.4',\n",
       " 'Virginica,1.5,5.1,2.8,6.3',\n",
       " 'Virginica,1.4,5.6,2.6,6.1',\n",
       " 'Virginica,2.3,6.1,3.0,7.7',\n",
       " 'Virginica,2.4,5.6,3.4,6.3',\n",
       " 'Virginica,1.8,5.5,3.1,6.4',\n",
       " 'Virginica,1.8,4.8,3.0,6.0',\n",
       " 'Virginica,2.1,5.4,3.1,6.9',\n",
       " 'Virginica,2.4,5.6,3.1,6.7',\n",
       " 'Virginica,2.3,5.1,3.1,6.9',\n",
       " 'Virginica,1.9,5.1,2.7,5.8',\n",
       " 'Virginica,2.3,5.9,3.2,6.8',\n",
       " 'Virginica,2.5,5.7,3.3,6.7',\n",
       " 'Virginica,2.3,5.2,3.0,6.7',\n",
       " 'Virginica,1.9,5.0,2.5,6.3',\n",
       " 'Virginica,2.0,5.2,3.0,6.5',\n",
       " 'Virginica,2.3,5.4,3.4,6.2',\n",
       " 'Virginica,1.8,5.1,3.0,5.9']"
      ]
     },
     "execution_count": 27,
     "metadata": {},
     "output_type": "execute_result"
    }
   ],
   "source": [
    "# \"re.sub()\" will replace the pattern \"r'[a-z]+'\" for the strings obtained from the cap function.(4)\n",
    "\n",
    "[re.sub(r'[a-z]+',cap,line) for line in iris2]"
   ]
  },
  {
   "cell_type": "markdown",
   "id": "c59bf193",
   "metadata": {},
   "source": [
    "**REFERENCES**"
   ]
  },
  {
   "cell_type": "markdown",
   "id": "9d6e7e43",
   "metadata": {},
   "source": [
    "1.https://docs.python.org/3/howto/regex.html  \n",
    "2.https://www.w3schools.com/python/ref_string_isalpha.asp  \n",
    "3.https://www.w3schools.com/python/ref_string_capitalize.asp  \n",
    "4.https://docs.python.org/3/library/re.html"
   ]
  }
 ],
 "metadata": {
  "kernelspec": {
   "display_name": "Python 3 (ipykernel)",
   "language": "python",
   "name": "python3"
  },
  "language_info": {
   "codemirror_mode": {
    "name": "ipython",
    "version": 3
   },
   "file_extension": ".py",
   "mimetype": "text/x-python",
   "name": "python",
   "nbconvert_exporter": "python",
   "pygments_lexer": "ipython3",
   "version": "3.9.7"
  }
 },
 "nbformat": 4,
 "nbformat_minor": 5
}

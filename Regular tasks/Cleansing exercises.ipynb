{
 "cells": [
  {
   "cell_type": "markdown",
   "id": "510a8930",
   "metadata": {},
   "source": [
    "# CLEANSING EXERCISES"
   ]
  },
  {
   "cell_type": "markdown",
   "id": "5119b696",
   "metadata": {},
   "source": [
    "## EXERCISE 1."
   ]
  },
  {
   "cell_type": "markdown",
   "id": "c9a5577c",
   "metadata": {},
   "source": [
    "Write a Python function to remove all non-alphanumeric characters from a string.\n",
    "\n",
    "***"
   ]
  },
  {
   "cell_type": "code",
   "execution_count": 1,
   "id": "94312bc0",
   "metadata": {},
   "outputs": [],
   "source": [
    "# Regex module:\n",
    "import re"
   ]
  },
  {
   "cell_type": "code",
   "execution_count": 7,
   "id": "5bb963f3",
   "metadata": {},
   "outputs": [
    {
     "data": {
      "text/plain": [
       "'test'"
      ]
     },
     "execution_count": 7,
     "metadata": {},
     "output_type": "execute_result"
    }
   ],
   "source": [
    "# String to remove all non-alphanumeric characters\n",
    "string = \".,;test$^^¨--\"\n",
    "\n",
    "# We create a pattern to read the whole string \n",
    "#pattern = r'[^A-Za-z0-9]+'\n",
    "\n",
    "#sample = re.sub(pattern,\"\", string)\n",
    "\n",
    "#sample"
   ]
  },
  {
   "cell_type": "code",
   "execution_count": 41,
   "id": "7f4998db",
   "metadata": {},
   "outputs": [],
   "source": [
    "# String we are going to test:\n",
    "string = \",,,test----///)))\"\n",
    "\n",
    "# Function to be tested:\n",
    "def function():\n",
    "    # pattern used:\n",
    "    # \"r\" to take whole string.\n",
    "    # \"[]\" to indicate the range\n",
    "    # \"^\" matches the start of the string\n",
    "    # \"A-Za-z0-9\" indicates the characters wanted\n",
    "    # \"+\" attemps to match as many repetitions as possible.\n",
    "    pattern = r'[^A-Za-z0-9]+'  \n",
    "    # \"re.sub\" function to search for the pattern in the string and replace the matched strings with the replacement\n",
    "    sample = re.sub(pattern,\"\", string)\n",
    "    return sample  \n"
   ]
  },
  {
   "cell_type": "code",
   "execution_count": 42,
   "id": "ab16aca3",
   "metadata": {},
   "outputs": [
    {
     "data": {
      "text/plain": [
       "'test'"
      ]
     },
     "execution_count": 42,
     "metadata": {},
     "output_type": "execute_result"
    }
   ],
   "source": [
    "function()"
   ]
  },
  {
   "cell_type": "markdown",
   "id": "6f11135d",
   "metadata": {},
   "source": [
    "**REFERENCES**"
   ]
  },
  {
   "cell_type": "markdown",
   "id": "097fe309",
   "metadata": {},
   "source": [
    "(1) https://thispointer.com/python-remove-all-non-alphanumeric-characters-from-string/"
   ]
  }
 ],
 "metadata": {
  "kernelspec": {
   "display_name": "Python 3 (ipykernel)",
   "language": "python",
   "name": "python3"
  },
  "language_info": {
   "codemirror_mode": {
    "name": "ipython",
    "version": 3
   },
   "file_extension": ".py",
   "mimetype": "text/x-python",
   "name": "python",
   "nbconvert_exporter": "python",
   "pygments_lexer": "ipython3",
   "version": "3.9.7"
  }
 },
 "nbformat": 4,
 "nbformat_minor": 5
}

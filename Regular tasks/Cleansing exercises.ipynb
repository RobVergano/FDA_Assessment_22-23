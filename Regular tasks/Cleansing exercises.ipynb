{
 "cells": [
  {
   "cell_type": "markdown",
   "id": "60c65362",
   "metadata": {},
   "source": [
    "# CLEANSING EXERCISES"
   ]
  },
  {
   "cell_type": "markdown",
   "id": "aff598ff",
   "metadata": {},
   "source": [
    "## EXERCISE 1."
   ]
  },
  {
   "cell_type": "markdown",
   "id": "0a860e5a",
   "metadata": {},
   "source": [
    "Write a Python function to remove all non-alphanumeric characters from a string.\n",
    "\n",
    "***"
   ]
  },
  {
   "cell_type": "code",
   "execution_count": 1,
   "id": "80d031c6",
   "metadata": {},
   "outputs": [],
   "source": [
    "# Regex module:\n",
    "import re"
   ]
  },
  {
   "cell_type": "code",
   "execution_count": 47,
   "id": "dd9cb9ce",
   "metadata": {},
   "outputs": [
    {
     "data": {
      "text/plain": [
       "'test'"
      ]
     },
     "execution_count": 47,
     "metadata": {},
     "output_type": "execute_result"
    }
   ],
   "source": [
    "# String we are going to test:\n",
    "string = \",,,test--··--///)))\"\n",
    "\n",
    "# Function to be tested:\n",
    "def function():\n",
    "    # pattern used:\n",
    "    # \"r\" to take whole string.\n",
    "    # \"[]\" to indicate the range\n",
    "    # \"^\" matches the start of the string\n",
    "    # \"A-Za-z0-9\" indicates the characters wanted\n",
    "    # \"+\" attemps to match as many repetitions as possible.\n",
    "    pattern = r'[^A-Za-z0-9]+'  \n",
    "    # \"re.sub\" function to search for the pattern in the string and replace the matched strings with the replacement(\"\") \n",
    "    sample = re.sub(pattern,\"\", string)\n",
    "    return sample  \n",
    "\n",
    "function()"
   ]
  },
  {
   "cell_type": "markdown",
   "id": "917e577a",
   "metadata": {},
   "source": [
    "**REFERENCES**"
   ]
  },
  {
   "cell_type": "markdown",
   "id": "5c326c77",
   "metadata": {},
   "source": [
    "(1) https://thispointer.com/python-remove-all-non-alphanumeric-characters-from-string/  \n",
    "(2) https://docs.python.org/3/library/re.html  \n",
    "(3) https://www.pythontutorial.net/python-regex/python-regex-sub/  "
   ]
  },
  {
   "cell_type": "code",
   "execution_count": null,
   "id": "ee7c3345",
   "metadata": {},
   "outputs": [],
   "source": []
  }
 ],
 "metadata": {
  "kernelspec": {
   "display_name": "Python 3 (ipykernel)",
   "language": "python",
   "name": "python3"
  },
  "language_info": {
   "codemirror_mode": {
    "name": "ipython",
    "version": 3
   },
   "file_extension": ".py",
   "mimetype": "text/x-python",
   "name": "python",
   "nbconvert_exporter": "python",
   "pygments_lexer": "ipython3",
   "version": "3.9.7"
  }
 },
 "nbformat": 4,
 "nbformat_minor": 5
}

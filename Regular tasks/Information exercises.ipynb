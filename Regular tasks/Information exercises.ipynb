{
 "cells": [
  {
   "cell_type": "markdown",
   "id": "f49564ba",
   "metadata": {},
   "source": [
    "# INFORMATION EXERCISES "
   ]
  },
  {
   "cell_type": "markdown",
   "id": "3e1a0a3c",
   "metadata": {},
   "source": [
    "##  EXERCISE 1. Building random words"
   ]
  },
  {
   "cell_type": "markdown",
   "id": "1965e380",
   "metadata": {},
   "source": [
    "Adapt the code below to generate a 1000 character long string with weights based on the previous two characters.\n",
    "\n",
    "***"
   ]
  },
  {
   "cell_type": "code",
   "execution_count": 2,
   "id": "e6724803",
   "metadata": {},
   "outputs": [
    {
     "name": "stdout",
     "output_type": "stream",
     "text": [
      "Alice was beginning to get very tired of sitting by her sister on the bank, and of having nothing to do: once or twice she had peeped into the book her sister was reading, but it had no pictures or conversations in it, “and what is the use of a book,” thought Alice “without pictures or conversations?”\n"
     ]
    }
   ],
   "source": [
    "# Make HTTP requests for internet reqources.\n",
    "import urllib.request\n",
    "\n",
    "# The URL of a text version of Alice in Wonderland.\n",
    "book_url = 'https://www.gutenberg.org/files/11/11-0.txt'\n",
    "\n",
    "# Get the book.\n",
    "book = list(urllib.request.urlopen(book_url))\n",
    "\n",
    "# Decode the lines and strip line endings.\n",
    "book = [line.decode('utf-8-sig').strip() for line in book]\n",
    "\n",
    "# Get a sample paragraph - I looked for this by hand.\n",
    "# The join() method takes all items in an iterable and joins them into one string. A string must be specified as the separator.\n",
    "paragraph = ' '.join(book[58:63])\n",
    "\n",
    "# Show the paragraph.\n",
    "print(paragraph)"
   ]
  },
  {
   "cell_type": "code",
   "execution_count": 3,
   "id": "286001bb",
   "metadata": {},
   "outputs": [
    {
     "name": "stdout",
     "output_type": "stream",
     "text": [
      "alice was beginning to get very tired of sitting by her sister on the bank and of having nothing to do once or twice she had peeped into the book her sister was reading but it had no pictures or conversations in it and what is the use of a book thought alice without pictures or conversations\n"
     ]
    }
   ],
   "source": [
    "# Let's lower-case it.\n",
    "alice = paragraph.lower()\n",
    "\n",
    "# All letters and a space.\n",
    "chars = 'abcdefghijklmnopqrstuvwxyz '\n",
    "\n",
    "# And strip anything that is not a letter or space.\n",
    "alice = ''.join([c for c in alice if c in chars])\n",
    "\n",
    "# Show the paragraph now.\n",
    "print(alice)"
   ]
  },
  {
   "cell_type": "code",
   "execution_count": 71,
   "id": "6556e277",
   "metadata": {
    "scrolled": true
   },
   "outputs": [],
   "source": [
    "# For doing (pseudo-)random things in Python.\n",
    "import random\n",
    "\n",
    "# Get the length of alice.\n",
    "N = len(alice)\n",
    "\n",
    "# Generate N random characters from chars.\n",
    "gener = random.choices(chars, k=N)\n",
    "\n",
    "# Join them together in a string.\n",
    "gener = ''.join(gener)\n",
    "\n",
    "# Print.\n",
    "#print(gener)"
   ]
  },
  {
   "cell_type": "code",
   "execution_count": 31,
   "id": "7cb89412",
   "metadata": {},
   "outputs": [],
   "source": [
    "# Get the whole book in one big string.\n",
    "sbook = ''.join(book[26:]).lower()\n",
    "\n",
    "# Create the weights - count the occurences of each character in the whole book.\n",
    "weights = [sbook.count(c) for c in chars]\n",
    "\n",
    "# Show the weights.\n",
    "#weights"
   ]
  },
  {
   "cell_type": "code",
   "execution_count": 70,
   "id": "765ab5b0",
   "metadata": {},
   "outputs": [],
   "source": [
    "# Generate a string using those weights.\n",
    "wgenr = random.choices(chars, weights=weights, k=N)\n",
    "\n",
    "# Join them together in a string.\n",
    "wgenr = ''.join(wgenr)\n",
    "\n",
    "# Print.\n",
    "#print(wgenr)"
   ]
  },
  {
   "cell_type": "code",
   "execution_count": 69,
   "id": "243a5450",
   "metadata": {},
   "outputs": [],
   "source": [
    "# Create the weights.\n",
    "twoghts = {c: {d: sbook.count(c + d) for d in chars} for c in chars}\n",
    "\n",
    "# Show the weights.\n",
    "#twoghts"
   ]
  },
  {
   "cell_type": "code",
   "execution_count": 72,
   "id": "3dd3d742",
   "metadata": {},
   "outputs": [],
   "source": [
    "# Loop through our character set.\n",
    "for i in range(len(chars)):\n",
    "    # Print the character and how many times it appears in Alice in Wonderland.\n",
    "    f'{chars[i]}: {weights[i]}'"
   ]
  },
  {
   "cell_type": "code",
   "execution_count": 73,
   "id": "73864afe",
   "metadata": {},
   "outputs": [],
   "source": [
    "# Start with space.\n",
    "pairs = ' '\n",
    "\n",
    "# Do the following N-1 times.\n",
    "for i in range(1, 1000):\n",
    "    # Get the weights where the previous character is the last character in twos.\n",
    "    wt = twoghts[pairs[-1]]\n",
    "    # Turn wt into a list, ordered by chars.\n",
    "    wt = [wt[c] for c in chars]\n",
    "    # Randomly pick the previous two characters using those weights. I changed the index [0] to [-2]\n",
    "    nextc = random.choices(chars, weights=wt, k=1000)[-2]\n",
    "    # Append the character to twos.\n",
    "    pairs = pairs + nextc"
   ]
  },
  {
   "cell_type": "code",
   "execution_count": 74,
   "id": "ab3d593a",
   "metadata": {},
   "outputs": [
    {
     "data": {
      "text/plain": [
       "' t pralfaitelyexche at ilanghtrterthatorongelated bucesasoo arre s t ticesh daig isalthousit s omun r asemst mengerery dske y  ju the adgr be ain alllidou thext therreyed galitur on w bonse ishen t th d ppyowh aterin bondnanliu astherterkeea ced ucanghey pry whe whitox k s wlduthebd he pld sheeened t aiped tinoif sooondrt  sherong t g d an oftas crsoftepty r wericheasou thadeabertite che k mbitensoweribit nd cand julerelik any quei htemed to shar ag lioucorss g gan s pisenut f t athenedow whas s stotor fachikuped t mielwassienberd wo gr he thak fondethe bik fis siecefeveabe tlfusemin chidlin ingerepus cesupe outhep she wite wangseryshereld teathe it ictof byond f dou hheryountowe p lyomand f in pe d owhelfeangsa ony angaiscr erd s mond meveloora sing wof  maut a d cthandnd wofoninghi ainamentlligere cthin ve te f ssullor e asenbsusoit shers sede bolyingrenge ithilicathillre ondsatthest p athatale ttenonouidim t inding owitheleeathiousite shit wof ieashisele avayo coussed aniowheranond '"
      ]
     },
     "execution_count": 74,
     "metadata": {},
     "output_type": "execute_result"
    }
   ],
   "source": [
    "pairs"
   ]
  },
  {
   "cell_type": "code",
   "execution_count": 52,
   "id": "769e305a",
   "metadata": {},
   "outputs": [
    {
     "data": {
      "text/plain": [
       "1000"
      ]
     },
     "execution_count": 52,
     "metadata": {},
     "output_type": "execute_result"
    }
   ],
   "source": [
    "len(pairs)"
   ]
  },
  {
   "cell_type": "markdown",
   "id": "c6f2fafa",
   "metadata": {},
   "source": [
    "For the first part of this exercise I changed the length of N to 1000.\n",
    "\n",
    "For the second part, I changed the index [0] to [-2] as suggested in one of the answers in the link below. But I could not figure out if that is correct or whether there is a way to demonstrate that or not. \n",
    "\n",
    "https://stackoverflow.com/questions/53857813/use-of-index-0-in-random-choices"
   ]
  },
  {
   "cell_type": "markdown",
   "id": "c4b9b20c",
   "metadata": {},
   "source": [
    "## Exercise 2.  Log of zero"
   ]
  },
  {
   "cell_type": "markdown",
   "id": "f205c1c6",
   "metadata": {},
   "source": [
    "Explain why the log of zero is undefined.\n",
    "\n",
    "***"
   ]
  },
  {
   "cell_type": "markdown",
   "id": "9e055f04",
   "metadata": {},
   "source": [
    "A logarithm is the power to which a number must be raised in order to get some other number.(1) \n"
   ]
  },
  {
   "cell_type": "markdown",
   "id": "55b33513",
   "metadata": {},
   "source": [
    "Ex: log 100 = 2"
   ]
  },
  {
   "cell_type": "markdown",
   "id": "b142a38f",
   "metadata": {},
   "source": [
    "One of the rules with logarithm is that you can never get zero by raising a number to the power of other number. It is not possible to reach zero, you can only approach it using an infinitely large and negative power.(1)"
   ]
  },
  {
   "cell_type": "markdown",
   "id": "a698cdde",
   "metadata": {},
   "source": [
    "This explains why it is not possible to reach zero in the graphic axes while using a logarithm."
   ]
  },
  {
   "cell_type": "code",
   "execution_count": 2,
   "id": "39a0e60d",
   "metadata": {},
   "outputs": [
    {
     "ename": "ValueError",
     "evalue": "math domain error",
     "output_type": "error",
     "traceback": [
      "\u001b[1;31m---------------------------------------------------------------------------\u001b[0m",
      "\u001b[1;31mValueError\u001b[0m                                Traceback (most recent call last)",
      "\u001b[1;32m~\\AppData\\Local\\Temp/ipykernel_3936/4020657671.py\u001b[0m in \u001b[0;36m<module>\u001b[1;34m\u001b[0m\n\u001b[0;32m      1\u001b[0m \u001b[1;32mfrom\u001b[0m \u001b[0mmath\u001b[0m \u001b[1;32mimport\u001b[0m \u001b[0mlog\u001b[0m\u001b[1;33m\u001b[0m\u001b[1;33m\u001b[0m\u001b[0m\n\u001b[1;32m----> 2\u001b[1;33m \u001b[0mlog\u001b[0m\u001b[1;33m(\u001b[0m\u001b[1;36m0\u001b[0m\u001b[1;33m)\u001b[0m\u001b[1;33m\u001b[0m\u001b[1;33m\u001b[0m\u001b[0m\n\u001b[0m",
      "\u001b[1;31mValueError\u001b[0m: math domain error"
     ]
    }
   ],
   "source": [
    "from math import log\n",
    "log(0)"
   ]
  },
  {
   "cell_type": "markdown",
   "id": "3001583c",
   "metadata": {},
   "source": [
    "References\n",
    "\n",
    "(1) http://www.mclph.umn.edu/mathrefresh/logs.html\n"
   ]
  }
 ],
 "metadata": {
  "kernelspec": {
   "display_name": "Python 3 (ipykernel)",
   "language": "python",
   "name": "python3"
  },
  "language_info": {
   "codemirror_mode": {
    "name": "ipython",
    "version": 3
   },
   "file_extension": ".py",
   "mimetype": "text/x-python",
   "name": "python",
   "nbconvert_exporter": "python",
   "pygments_lexer": "ipython3",
   "version": "3.9.7"
  }
 },
 "nbformat": 4,
 "nbformat_minor": 5
}

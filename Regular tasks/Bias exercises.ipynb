{
 "cells": [
  {
   "cell_type": "markdown",
   "id": "bf7ff066",
   "metadata": {},
   "source": [
    "# BIAS EXERCISES "
   ]
  },
  {
   "cell_type": "markdown",
   "id": "87c0a9ea",
   "metadata": {},
   "source": [
    "## EXERCISE 1. GUESSING GAME. "
   ]
  },
  {
   "cell_type": "markdown",
   "id": "8d7d0c2e",
   "metadata": {},
   "source": [
    "Guess when the function returns TRUE\n",
    "***"
   ]
  },
  {
   "cell_type": "code",
   "execution_count": 1,
   "id": "8f5327ac",
   "metadata": {},
   "outputs": [],
   "source": [
    "import numpy as np\n",
    "import matplotlib.pyplot as plt"
   ]
  },
  {
   "cell_type": "code",
   "execution_count": 2,
   "id": "3a4f5ecb",
   "metadata": {},
   "outputs": [],
   "source": [
    "import operator as o__\n",
    "\n",
    "def test(L):\n",
    "    return True if o__.__ge__(0b10001, len(L) * 2 + sum([i - 0b10 for i in L])) and all([o__.__ge__(L[::-1][i], L[::-1][i+0b1]) for i in range(len(L)-1)]) else False"
   ]
  },
  {
   "cell_type": "code",
   "execution_count": 3,
   "id": "eb9ba955",
   "metadata": {},
   "outputs": [
    {
     "data": {
      "text/plain": [
       "True"
      ]
     },
     "execution_count": 3,
     "metadata": {},
     "output_type": "execute_result"
    }
   ],
   "source": [
    "test([1, 2, 3, 4])\n"
   ]
  },
  {
   "cell_type": "code",
   "execution_count": 20,
   "id": "ca5f2ace",
   "metadata": {},
   "outputs": [
    {
     "data": {
      "text/plain": [
       "True"
      ]
     },
     "execution_count": 20,
     "metadata": {},
     "output_type": "execute_result"
    }
   ],
   "source": [
    "test([1, 2, 3])"
   ]
  },
  {
   "cell_type": "code",
   "execution_count": 21,
   "id": "cc7151c6",
   "metadata": {},
   "outputs": [
    {
     "data": {
      "text/plain": [
       "True"
      ]
     },
     "execution_count": 21,
     "metadata": {},
     "output_type": "execute_result"
    }
   ],
   "source": [
    "test([1, 2])"
   ]
  },
  {
   "cell_type": "code",
   "execution_count": 22,
   "id": "f55b69f9",
   "metadata": {},
   "outputs": [
    {
     "data": {
      "text/plain": [
       "True"
      ]
     },
     "execution_count": 22,
     "metadata": {},
     "output_type": "execute_result"
    }
   ],
   "source": [
    "test([1])"
   ]
  },
  {
   "cell_type": "code",
   "execution_count": 23,
   "id": "94bbbc40",
   "metadata": {},
   "outputs": [
    {
     "data": {
      "text/plain": [
       "True"
      ]
     },
     "execution_count": 23,
     "metadata": {},
     "output_type": "execute_result"
    }
   ],
   "source": [
    "test([7])"
   ]
  },
  {
   "cell_type": "code",
   "execution_count": 24,
   "id": "20c75884",
   "metadata": {},
   "outputs": [
    {
     "data": {
      "text/plain": [
       "True"
      ]
     },
     "execution_count": 24,
     "metadata": {},
     "output_type": "execute_result"
    }
   ],
   "source": [
    "test([10])"
   ]
  },
  {
   "cell_type": "code",
   "execution_count": 34,
   "id": "afc202cf",
   "metadata": {},
   "outputs": [
    {
     "data": {
      "text/plain": [
       "False"
      ]
     },
     "execution_count": 34,
     "metadata": {},
     "output_type": "execute_result"
    }
   ],
   "source": [
    "test([18])"
   ]
  },
  {
   "cell_type": "code",
   "execution_count": 35,
   "id": "24984bc4",
   "metadata": {},
   "outputs": [
    {
     "data": {
      "text/plain": [
       "False"
      ]
     },
     "execution_count": 35,
     "metadata": {},
     "output_type": "execute_result"
    }
   ],
   "source": [
    "test([19])"
   ]
  },
  {
   "cell_type": "code",
   "execution_count": 36,
   "id": "4f090888",
   "metadata": {},
   "outputs": [
    {
     "data": {
      "text/plain": [
       "False"
      ]
     },
     "execution_count": 36,
     "metadata": {},
     "output_type": "execute_result"
    }
   ],
   "source": [
    "test([30])"
   ]
  },
  {
   "cell_type": "code",
   "execution_count": 37,
   "id": "8fbb6db3",
   "metadata": {},
   "outputs": [
    {
     "data": {
      "text/plain": [
       "False"
      ]
     },
     "execution_count": 37,
     "metadata": {},
     "output_type": "execute_result"
    }
   ],
   "source": [
    "test([2, 1, 3, 4])"
   ]
  },
  {
   "cell_type": "code",
   "execution_count": 38,
   "id": "5dd6d277",
   "metadata": {},
   "outputs": [
    {
     "data": {
      "text/plain": [
       "True"
      ]
     },
     "execution_count": 38,
     "metadata": {},
     "output_type": "execute_result"
    }
   ],
   "source": [
    "test([1, 2, 3, 4, 5])"
   ]
  },
  {
   "cell_type": "code",
   "execution_count": 40,
   "id": "bd203aa7",
   "metadata": {},
   "outputs": [
    {
     "data": {
      "text/plain": [
       "False"
      ]
     },
     "execution_count": 40,
     "metadata": {},
     "output_type": "execute_result"
    }
   ],
   "source": [
    "test([1, 2, 3, 4, 8])"
   ]
  },
  {
   "cell_type": "code",
   "execution_count": 41,
   "id": "32d416fe",
   "metadata": {},
   "outputs": [
    {
     "data": {
      "text/plain": [
       "True"
      ]
     },
     "execution_count": 41,
     "metadata": {},
     "output_type": "execute_result"
    }
   ],
   "source": [
    "test([4, 12])"
   ]
  },
  {
   "cell_type": "code",
   "execution_count": 42,
   "id": "0aa5a469",
   "metadata": {},
   "outputs": [
    {
     "data": {
      "text/plain": [
       "True"
      ]
     },
     "execution_count": 42,
     "metadata": {},
     "output_type": "execute_result"
    }
   ],
   "source": [
    "test([1, 2, 4, 8])"
   ]
  },
  {
   "cell_type": "code",
   "execution_count": 43,
   "id": "cc7ef719",
   "metadata": {},
   "outputs": [
    {
     "data": {
      "text/plain": [
       "False"
      ]
     },
     "execution_count": 43,
     "metadata": {},
     "output_type": "execute_result"
    }
   ],
   "source": [
    "test([2, 4, 6, 7])"
   ]
  },
  {
   "cell_type": "code",
   "execution_count": 46,
   "id": "959a7295",
   "metadata": {},
   "outputs": [
    {
     "data": {
      "text/plain": [
       "True"
      ]
     },
     "execution_count": 46,
     "metadata": {},
     "output_type": "execute_result"
    }
   ],
   "source": [
    "test([1, 1, 1, 1, 2, 2, 2, 2, 2, 3])"
   ]
  },
  {
   "cell_type": "code",
   "execution_count": 47,
   "id": "17b54e85",
   "metadata": {},
   "outputs": [
    {
     "data": {
      "text/plain": [
       "False"
      ]
     },
     "execution_count": 47,
     "metadata": {},
     "output_type": "execute_result"
    }
   ],
   "source": [
    "test([1, 1, 1, 1, 1, 2, 2, 2, 2, 2, 3])"
   ]
  },
  {
   "cell_type": "markdown",
   "id": "0fda6059",
   "metadata": {},
   "source": [
    "The function returns \"True\" if the summatory of the numbers is less or iqual than 17 and the numbers are in ascending order. "
   ]
  },
  {
   "cell_type": "markdown",
   "id": "9e89214f",
   "metadata": {},
   "source": [
    "## EXERCISE 2. COGNITIVE BIAS"
   ]
  },
  {
   "cell_type": "markdown",
   "id": "9c44e9d9",
   "metadata": {},
   "source": [
    "Give three real-world examples of different types of cognitive bias.\n",
    "\n",
    "***\n"
   ]
  },
  {
   "cell_type": "markdown",
   "id": "88128f1e",
   "metadata": {},
   "source": [
    "Cognitive bias is a systematic error think that ocurrs when people process and interpret information of the world around them, affecting the decisions they make.(1) Some kinds of cognitive bias are:\n",
    "\n",
    "\n",
    "1. Confirmation bias: tendency to process information consistent with one´s existing beliefs, which in a given situation can influence a particular outcome. Information that confronts the desired outcome can be ignored or given little consideration.(2) \n",
    "\n",
    "   Ex.1. If everybody tells you a film is very good because of the actors, once you watch it you will be looking for arguments to support that affirmation, ignoring or giving less meaning to the plot. \n",
    "\n",
    "   Ex.2. People who support a particular political party sometimes ignore arguments against their party. \n",
    "   \n",
    "\n",
    "2. Attentional bias: tendency to pay attention to some things while ignoring simultaneously others.(3) \n",
    "\n",
    "   Ex. Drug addiction, drugs addicts base their decisions depending on whether they will get the drug or not, ignoring the bad consequences.\n",
    "   \n",
    "\n",
    "3. Actor-Observer Bias: tendency to attribute one´s own actions to external causes while ignoring internal causes.(4)\n",
    "   \n",
    "   Ex. Patients who are told to have high level of cholesterol tend to blame external causes they can t control like genetic     factors instead of diet or lack of exercise. \n",
    "\n",
    "\n",
    "\n",
    "\n",
    "\n"
   ]
  },
  {
   "cell_type": "markdown",
   "id": "63e83b5b",
   "metadata": {},
   "source": [
    "**REFERENCES**\n",
    "\n",
    "1. https://www.verywellmind.com/what-is-a-cognitive-bias-2794963 \n",
    "2. https://www.britannica.com/science/confirmation-bias\n",
    "3. https://www.verywellmind.com/what-is-an-attentional-bias-2795027\n",
    "4. https://www.verywellmind.com/what-is-the-actor-observer-bias-2794813"
   ]
  },
  {
   "cell_type": "markdown",
   "id": "742659de",
   "metadata": {},
   "source": [
    "## EXERCISE 3.  BIASED ESTIMATORS"
   ]
  },
  {
   "cell_type": "markdown",
   "id": "12d2d611",
   "metadata": {},
   "source": [
    "Show that the difference between the standard deviation calculations is greatest for small sample sizes.\n",
    "\n",
    "***"
   ]
  },
  {
   "cell_type": "code",
   "execution_count": 243,
   "id": "bfe89acb",
   "metadata": {},
   "outputs": [],
   "source": [
    "import numpy as np\n",
    "import matplotlib.pyplot as plt\n",
    "\n",
    "# We set the mean (m) and standard deviation (sd) for our sample groups.\n",
    "m = 0\n",
    "sd = 2"
   ]
  },
  {
   "cell_type": "markdown",
   "id": "231c8b34",
   "metadata": {},
   "source": [
    "We use np.random.normal to create a random sample that follows a normal distribution for four different sample groups (a,b,c,d) with different sizes (from 10 to 100000).(1)"
   ]
  },
  {
   "cell_type": "code",
   "execution_count": 244,
   "id": "90bca9a9",
   "metadata": {
    "scrolled": true
   },
   "outputs": [
    {
     "name": "stdout",
     "output_type": "stream",
     "text": [
      "The sd of a is 2.016459221704675\n",
      "The sd of b is 2.1042565125121424\n",
      "The sd of c is 1.990591679663533\n",
      "The sd of d is 1.9940495737664075\n"
     ]
    }
   ],
   "source": [
    "a = np.random.normal(m,sd,10)\n",
    "# To calculate the sd of each sample group we use the std() function.(2)\n",
    "a_std = a.std()\n",
    "\n",
    "b = np.random.normal(m,sd,100)\n",
    "b_std = b.std()\n",
    "\n",
    "c = np.random.normal(m,sd,1000)\n",
    "c_std = c.std()\n",
    "\n",
    "d = np.random.normal(m,sd,100000)\n",
    "d_std = d.std()\n",
    "\n",
    "print (\"The sd of a is\", a_std)\n",
    "print (\"The sd of b is\", b_std)\n",
    "print (\"The sd of c is\", c_std)\n",
    "print (\"The sd of d is\", d_std)"
   ]
  },
  {
   "cell_type": "markdown",
   "id": "45f548de",
   "metadata": {},
   "source": [
    "We can observe that the higher the size of group is, the closer to the real standard deviaton is. While small sample sizes are further from the standard deviation. \n",
    "\n",
    "Now, we are going to calculate the distance from the sd. To make it easier, using the square function of numpy all negative numbers become positive numbers.(3)"
   ]
  },
  {
   "cell_type": "code",
   "execution_count": 245,
   "id": "e0179b6b",
   "metadata": {},
   "outputs": [
    {
     "name": "stdout",
     "output_type": "stream",
     "text": [
      "Distance from the original sd:\n",
      "a = 0.0002709059791236394\n",
      "b = 0.010869420401194506\n",
      "c = 8.851649155357835e-05\n",
      "d = 3.5407572361426336e-05\n"
     ]
    }
   ],
   "source": [
    "da = np.square(sd - a_std)\n",
    "db = np.square(sd - b_std)\n",
    "dc = np.square(sd - c_std)\n",
    "dd = np.square(sd - d_std)\n",
    "\n",
    "print(\"Distance from the original sd:\")\n",
    "print (\"a =\", da)\n",
    "print (\"b =\", db)\n",
    "print (\"c =\", dc)\n",
    "print (\"d =\", dd)"
   ]
  },
  {
   "cell_type": "markdown",
   "id": "06ea060e",
   "metadata": {},
   "source": [
    "We can observe that the distance from the standard deviation is bigger for the smaller sample groups. "
   ]
  },
  {
   "cell_type": "markdown",
   "id": "dde3a860",
   "metadata": {},
   "source": [
    "**REFERENCES**\n",
    "\n",
    "1. https://numpy.org/doc/stable/reference/random/generated/numpy.random.normal.html\n",
    "2. https://www.w3schools.com/statistics/statistics_standard_deviation.php\n",
    "3. https://numpy.org/doc/stable/reference/generated/numpy.square.html"
   ]
  }
 ],
 "metadata": {
  "kernelspec": {
   "display_name": "Python 3 (ipykernel)",
   "language": "python",
   "name": "python3"
  },
  "language_info": {
   "codemirror_mode": {
    "name": "ipython",
    "version": 3
   },
   "file_extension": ".py",
   "mimetype": "text/x-python",
   "name": "python",
   "nbconvert_exporter": "python",
   "pygments_lexer": "ipython3",
   "version": "3.9.7"
  }
 },
 "nbformat": 4,
 "nbformat_minor": 5
}

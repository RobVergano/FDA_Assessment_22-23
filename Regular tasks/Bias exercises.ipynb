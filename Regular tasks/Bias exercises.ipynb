{
 "cells": [
  {
   "cell_type": "markdown",
   "id": "e78866d1",
   "metadata": {},
   "source": [
    "# BIAS EXERCISES "
   ]
  },
  {
   "cell_type": "markdown",
   "id": "765b8aff",
   "metadata": {},
   "source": [
    "## EXERCISE 1. GUESSING GAME. "
   ]
  },
  {
   "cell_type": "markdown",
   "id": "8021ee0c",
   "metadata": {},
   "source": [
    "Guess when the function returns TRUE\n",
    "***"
   ]
  },
  {
   "cell_type": "code",
   "execution_count": 1,
   "id": "b8af92d3",
   "metadata": {},
   "outputs": [],
   "source": [
    "import numpy as np\n",
    "import matplotlib.pyplot as plt"
   ]
  },
  {
   "cell_type": "code",
   "execution_count": 2,
   "id": "da75babd",
   "metadata": {},
   "outputs": [],
   "source": [
    "import operator as o__\n",
    "\n",
    "def test(L):\n",
    "    return True if o__.__ge__(0b10001, len(L) * 2 + sum([i - 0b10 for i in L])) and all([o__.__ge__(L[::-1][i], L[::-1][i+0b1]) for i in range(len(L)-1)]) else False"
   ]
  },
  {
   "cell_type": "code",
   "execution_count": 3,
   "id": "a6e304dd",
   "metadata": {},
   "outputs": [
    {
     "data": {
      "text/plain": [
       "True"
      ]
     },
     "execution_count": 3,
     "metadata": {},
     "output_type": "execute_result"
    }
   ],
   "source": [
    "test([1, 2, 3, 4])\n"
   ]
  },
  {
   "cell_type": "code",
   "execution_count": 20,
   "id": "56133dd8",
   "metadata": {},
   "outputs": [
    {
     "data": {
      "text/plain": [
       "True"
      ]
     },
     "execution_count": 20,
     "metadata": {},
     "output_type": "execute_result"
    }
   ],
   "source": [
    "test([1, 2, 3])"
   ]
  },
  {
   "cell_type": "code",
   "execution_count": 21,
   "id": "e91724c0",
   "metadata": {},
   "outputs": [
    {
     "data": {
      "text/plain": [
       "True"
      ]
     },
     "execution_count": 21,
     "metadata": {},
     "output_type": "execute_result"
    }
   ],
   "source": [
    "test([1, 2])"
   ]
  },
  {
   "cell_type": "code",
   "execution_count": 22,
   "id": "675d01a8",
   "metadata": {},
   "outputs": [
    {
     "data": {
      "text/plain": [
       "True"
      ]
     },
     "execution_count": 22,
     "metadata": {},
     "output_type": "execute_result"
    }
   ],
   "source": [
    "test([1])"
   ]
  },
  {
   "cell_type": "code",
   "execution_count": 23,
   "id": "d6c5a059",
   "metadata": {},
   "outputs": [
    {
     "data": {
      "text/plain": [
       "True"
      ]
     },
     "execution_count": 23,
     "metadata": {},
     "output_type": "execute_result"
    }
   ],
   "source": [
    "test([7])"
   ]
  },
  {
   "cell_type": "code",
   "execution_count": 24,
   "id": "11710017",
   "metadata": {},
   "outputs": [
    {
     "data": {
      "text/plain": [
       "True"
      ]
     },
     "execution_count": 24,
     "metadata": {},
     "output_type": "execute_result"
    }
   ],
   "source": [
    "test([10])"
   ]
  },
  {
   "cell_type": "code",
   "execution_count": 34,
   "id": "e35b188d",
   "metadata": {},
   "outputs": [
    {
     "data": {
      "text/plain": [
       "False"
      ]
     },
     "execution_count": 34,
     "metadata": {},
     "output_type": "execute_result"
    }
   ],
   "source": [
    "test([18])"
   ]
  },
  {
   "cell_type": "code",
   "execution_count": 35,
   "id": "2f43b946",
   "metadata": {},
   "outputs": [
    {
     "data": {
      "text/plain": [
       "False"
      ]
     },
     "execution_count": 35,
     "metadata": {},
     "output_type": "execute_result"
    }
   ],
   "source": [
    "test([19])"
   ]
  },
  {
   "cell_type": "code",
   "execution_count": 36,
   "id": "ff8f0e56",
   "metadata": {},
   "outputs": [
    {
     "data": {
      "text/plain": [
       "False"
      ]
     },
     "execution_count": 36,
     "metadata": {},
     "output_type": "execute_result"
    }
   ],
   "source": [
    "test([30])"
   ]
  },
  {
   "cell_type": "code",
   "execution_count": 37,
   "id": "3e84ff11",
   "metadata": {},
   "outputs": [
    {
     "data": {
      "text/plain": [
       "False"
      ]
     },
     "execution_count": 37,
     "metadata": {},
     "output_type": "execute_result"
    }
   ],
   "source": [
    "test([2, 1, 3, 4])"
   ]
  },
  {
   "cell_type": "code",
   "execution_count": 38,
   "id": "9b557955",
   "metadata": {},
   "outputs": [
    {
     "data": {
      "text/plain": [
       "True"
      ]
     },
     "execution_count": 38,
     "metadata": {},
     "output_type": "execute_result"
    }
   ],
   "source": [
    "test([1, 2, 3, 4, 5])"
   ]
  },
  {
   "cell_type": "code",
   "execution_count": 40,
   "id": "02c52253",
   "metadata": {},
   "outputs": [
    {
     "data": {
      "text/plain": [
       "False"
      ]
     },
     "execution_count": 40,
     "metadata": {},
     "output_type": "execute_result"
    }
   ],
   "source": [
    "test([1, 2, 3, 4, 8])"
   ]
  },
  {
   "cell_type": "code",
   "execution_count": 41,
   "id": "e13c14e6",
   "metadata": {},
   "outputs": [
    {
     "data": {
      "text/plain": [
       "True"
      ]
     },
     "execution_count": 41,
     "metadata": {},
     "output_type": "execute_result"
    }
   ],
   "source": [
    "test([4, 12])"
   ]
  },
  {
   "cell_type": "code",
   "execution_count": 42,
   "id": "2f2c8eb6",
   "metadata": {},
   "outputs": [
    {
     "data": {
      "text/plain": [
       "True"
      ]
     },
     "execution_count": 42,
     "metadata": {},
     "output_type": "execute_result"
    }
   ],
   "source": [
    "test([1, 2, 4, 8])"
   ]
  },
  {
   "cell_type": "code",
   "execution_count": 43,
   "id": "e57188d3",
   "metadata": {},
   "outputs": [
    {
     "data": {
      "text/plain": [
       "False"
      ]
     },
     "execution_count": 43,
     "metadata": {},
     "output_type": "execute_result"
    }
   ],
   "source": [
    "test([2, 4, 6, 7])"
   ]
  },
  {
   "cell_type": "code",
   "execution_count": 46,
   "id": "20e88f53",
   "metadata": {},
   "outputs": [
    {
     "data": {
      "text/plain": [
       "True"
      ]
     },
     "execution_count": 46,
     "metadata": {},
     "output_type": "execute_result"
    }
   ],
   "source": [
    "test([1, 1, 1, 1, 2, 2, 2, 2, 2, 3])"
   ]
  },
  {
   "cell_type": "code",
   "execution_count": 47,
   "id": "4e595c86",
   "metadata": {},
   "outputs": [
    {
     "data": {
      "text/plain": [
       "False"
      ]
     },
     "execution_count": 47,
     "metadata": {},
     "output_type": "execute_result"
    }
   ],
   "source": [
    "test([1, 1, 1, 1, 1, 2, 2, 2, 2, 2, 3])"
   ]
  },
  {
   "cell_type": "markdown",
   "id": "1c809cc4",
   "metadata": {},
   "source": [
    "The function returns \"True\" if the summatory of the numbers is less or iqual than 17 and the numbers are in ascending order. "
   ]
  },
  {
   "cell_type": "markdown",
   "id": "40308e64",
   "metadata": {},
   "source": [
    "## EXERCISE 2. COGNITIVE BIAS"
   ]
  },
  {
   "cell_type": "markdown",
   "id": "13c10195",
   "metadata": {},
   "source": [
    "Give three real-world examples of different types of cognitive bias.\n",
    "\n",
    "***\n"
   ]
  },
  {
   "cell_type": "markdown",
   "id": "0b695413",
   "metadata": {},
   "source": [
    "Cognitive bias is a systematic error think that ocurrs when people process and interpret information of the world around them, affecting the decisions they make.(1) Some kinds of cognitive bias are:\n",
    "\n",
    "\n",
    "1. Confirmation bias: tendency to process information consistent with one´s existing beliefs, which in a given situation can influence a particular outcome. Information that confronts the desired outcome can be ignored or given little consideration.(2) \n",
    "\n",
    "   Ex.1. If everybody tells you a film is very good because of the actors, once you watch it you will be looking for arguments to support that affirmation, ignoring or giving less meaning to the plot. \n",
    "\n",
    "   Ex.2. People who support a particular political party sometimes ignore arguments against their party. \n",
    "   \n",
    "\n",
    "2. Attentional bias: tendency to pay attention to some things while ignoring simultaneously others.(3) \n",
    "\n",
    "   Ex. Drug addiction, drugs addicts base their decisions depending on whether they will get the drug or not, ignoring the bad consequences.\n",
    "   \n",
    "\n",
    "3. Actor-Observer Bias: tendency to attribute one´s own actions to external causes while ignoring internal causes.(4)\n",
    "   \n",
    "   Ex. Patients who are told to have high level of cholesterol tend to blame external causes they can t control like genetic     factors instead of diet or lack of exercise. \n",
    "\n",
    "\n",
    "\n",
    "\n",
    "\n"
   ]
  },
  {
   "cell_type": "markdown",
   "id": "aad7b7fc",
   "metadata": {},
   "source": [
    "**REFERENCES**\n",
    "\n",
    "1. https://www.verywellmind.com/what-is-a-cognitive-bias-2794963 \n",
    "2. https://www.britannica.com/science/confirmation-bias\n",
    "3. https://www.verywellmind.com/what-is-an-attentional-bias-2795027\n",
    "4. https://www.verywellmind.com/what-is-the-actor-observer-bias-2794813"
   ]
  },
  {
   "cell_type": "code",
   "execution_count": null,
   "id": "e2f397c9",
   "metadata": {},
   "outputs": [],
   "source": []
  }
 ],
 "metadata": {
  "kernelspec": {
   "display_name": "Python 3 (ipykernel)",
   "language": "python",
   "name": "python3"
  },
  "language_info": {
   "codemirror_mode": {
    "name": "ipython",
    "version": 3
   },
   "file_extension": ".py",
   "mimetype": "text/x-python",
   "name": "python",
   "nbconvert_exporter": "python",
   "pygments_lexer": "ipython3",
   "version": "3.9.7"
  }
 },
 "nbformat": 4,
 "nbformat_minor": 5
}

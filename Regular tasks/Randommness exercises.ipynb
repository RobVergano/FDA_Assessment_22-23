{
 "cells": [
  {
   "cell_type": "markdown",
   "id": "5fc668d8",
   "metadata": {},
   "source": [
    "# RANDOMMNESS EXERCISES"
   ]
  },
  {
   "cell_type": "markdown",
   "id": "5c60f27d",
   "metadata": {},
   "source": [
    "## EXERCISE 1. Counting heads"
   ]
  },
  {
   "cell_type": "markdown",
   "id": "bfbb57fe",
   "metadata": {},
   "source": [
    "It is somewhat interesting that (5 * 4 * 3 * 2 * 1) perfectly divides (10 * 9 * 8 * 7 * 6) - there's no remainder.\n",
    "\n",
    "If we only wanted exactly four heads as opposed to five, the equivalent calculation would be (10 * 9 * 8 * 7) / (4 * 3 * 2 * 1).\n",
    "\n",
    "Does that evenly divide too? What is the formula in general?\n",
    "\n",
    "Does it always come out as a positive whole number?\n",
    "\n",
    "***\n"
   ]
  },
  {
   "cell_type": "markdown",
   "id": "b0325cba",
   "metadata": {},
   "source": [
    "**Does that evenly divide too?** "
   ]
  },
  {
   "cell_type": "code",
   "execution_count": 1,
   "id": "22f9a877",
   "metadata": {},
   "outputs": [
    {
     "name": "stdout",
     "output_type": "stream",
     "text": [
      "210.0\n"
     ]
    }
   ],
   "source": [
    "div = (10*9*8*7)/(4*3*2*1)\n",
    "print (div)"
   ]
  },
  {
   "cell_type": "markdown",
   "id": "92b96c57",
   "metadata": {},
   "source": [
    "Yes, there is no remainder when we want exactly four heads instead of five. There are 210 ways of having four heads in 10 tosses. "
   ]
  },
  {
   "cell_type": "markdown",
   "id": "ca3748eb",
   "metadata": {},
   "source": [
    "**What is the formula in general?**"
   ]
  },
  {
   "cell_type": "markdown",
   "id": "c70c99ad",
   "metadata": {},
   "source": [
    "In maths, this belongs to combinations where repeats are allowed.(1) The formula is: \n",
    "\n",
    "Cr = n!/r!(n-r)!\n",
    "\n",
    "where Cr = total number of combinations\n",
    "       n = total number of objects from the set\n",
    "       r = number of choosing objects from the set\n",
    "\n",
    "In our case:\n",
    "\n",
    "Cr = 10!/4!(10-4)! = 210\n",
    "\n",
    "We can calculate the number of combinations using python as follows.(2) "
   ]
  },
  {
   "cell_type": "markdown",
   "id": "ce3d12f2",
   "metadata": {},
   "source": [
    "n = number of trials = 10 tosses\n",
    "c = (n-r) from the formula above\n",
    "Cr = number of combinations"
   ]
  },
  {
   "cell_type": "code",
   "execution_count": 3,
   "id": "0229eb05",
   "metadata": {},
   "outputs": [
    {
     "name": "stdout",
     "output_type": "stream",
     "text": [
      "Please enter a number of heads required: 9\n",
      "Please enter a number of tosses: 13\n",
      "The number of combinations is  715.0\n"
     ]
    }
   ],
   "source": [
    "import math \n",
    "\n",
    "r = int(input(\"Please enter a number of heads required: \"))\n",
    "\n",
    "n = int(input(\"Please enter a number of tosses: \"))\n",
    "\n",
    "if n<r:\n",
    "    print (\"The number of tosses must be bigger than the heads required\")\n",
    "    r = int(input(\"Please enter a valid number of heads required: \"))\n",
    "    n = int(input(\"Please enter a valid number of tosses: \"))\n",
    "\n",
    "c = n - r \n",
    "\n",
    "n_fact = math.factorial (n)\n",
    "r_fact = math.factorial (r)\n",
    "c_fact = math.factorial (c)\n",
    "\n",
    "Cr = n_fact/(r_fact*c_fact)\n",
    "\n",
    "print (\"The number of combinations is \", Cr)"
   ]
  },
  {
   "cell_type": "markdown",
   "id": "2304a7bf",
   "metadata": {},
   "source": [
    "**Does it always come out as a positive whole number?** \n",
    "\n",
    "Yes, it comes out as a positive whole number because the number of combinations are natural numbers.\n",
    "It is either head or tail. It is not possible to get a half of the combination. \n"
   ]
  },
  {
   "cell_type": "markdown",
   "id": "ee0ecae2",
   "metadata": {},
   "source": [
    "**REFERENCES**\n",
    "\n",
    "1. https://www.calculatorsoup.com/calculators/discretemathematics/combinations.php\n",
    "2. https://stackoverflow.com/questions/5136447/function-for-factorial-in-python"
   ]
  },
  {
   "cell_type": "markdown",
   "id": "e950ad8a",
   "metadata": {},
   "source": [
    "##  EXERCISE 2. Unknown number of heads"
   ]
  },
  {
   "cell_type": "markdown",
   "id": "df020986",
   "metadata": {},
   "source": [
    "Note that there are the same number of ways to get 4 tails as there to get 4 heads. Explain why this is.\n",
    "\n",
    "***"
   ]
  },
  {
   "cell_type": "markdown",
   "id": "fcc1da96",
   "metadata": {},
   "source": [
    "An outcome \"counts\" if and only if it contains exactly 4 heads and 6 tails, and viceversa, 4 tails and 6 heads. Here, we need only compute the number of ways to choose exactly four heads or four tails, since the the other six will necessarily then be heads or tails. Therefore, we can use the same code as before."
   ]
  },
  {
   "cell_type": "code",
   "execution_count": 4,
   "id": "a9c7c912",
   "metadata": {},
   "outputs": [
    {
     "name": "stdout",
     "output_type": "stream",
     "text": [
      "Please enter a number of heads/tails required: 7\n",
      "Please enter a number of tosses: 10\n",
      "The number of combinations is  120.0\n"
     ]
    }
   ],
   "source": [
    "import math \n",
    "\n",
    "r = int(input(\"Please enter a number of heads/tails required: \"))\n",
    "\n",
    "n = int(input(\"Please enter a number of tosses: \"))\n",
    "\n",
    "if n<r:\n",
    "    print (\"The number of tosses must be bigger than the heads required\")\n",
    "    r = int(input(\"Please enter a valid number of heads required: \"))\n",
    "    n = int(input(\"Please enter a valid number of tosses: \"))\n",
    "\n",
    "c = n - r \n",
    "\n",
    "n_fact = math.factorial (n)\n",
    "r_fact = math.factorial (r)\n",
    "c_fact = math.factorial (c)\n",
    "\n",
    "Cr = n_fact/(r_fact*c_fact)\n",
    "\n",
    "print (\"The number of combinations is \", Cr)"
   ]
  },
  {
   "cell_type": "markdown",
   "id": "69d8b32b",
   "metadata": {},
   "source": [
    "## Exercise 3. Random distributions in numpy"
   ]
  },
  {
   "cell_type": "markdown",
   "id": "0060e485",
   "metadata": {},
   "source": [
    "Plot bar charts or histograms of any three different distributions listed at the following link: \n",
    "\n",
    "https://numpy.org/doc/stable/reference/random/generator.html#distributions\n",
    "\n",
    "***"
   ]
  },
  {
   "cell_type": "markdown",
   "id": "323370c3",
   "metadata": {},
   "source": [
    "Let s import first the modules we are going to use."
   ]
  },
  {
   "cell_type": "code",
   "execution_count": 5,
   "id": "52de0a76",
   "metadata": {},
   "outputs": [],
   "source": [
    "import matplotlib.pyplot as plt\n",
    "import numpy as np"
   ]
  },
  {
   "cell_type": "markdown",
   "id": "b8713b76",
   "metadata": {},
   "source": [
    "**Exponential distribution**"
   ]
  },
  {
   "cell_type": "code",
   "execution_count": 44,
   "id": "20508e71",
   "metadata": {},
   "outputs": [
    {
     "data": {
      "image/png": "[encoded data removed]",
      "text/plain": [
       "<Figure size 432x288 with 1 Axes>"
      ]
     },
     "metadata": {
      "needs_background": "light"
     },
     "output_type": "display_data"
    },
    {
     "data": {
      "image/png": "[encoded data removed]",
      "text/plain": [
       "<Figure size 432x288 with 1 Axes>"
      ]
     },
     "metadata": {
      "needs_background": "light"
     },
     "output_type": "display_data"
    }
   ],
   "source": [
    "# We are going to use random.default_rng to generate our exponential random distribution of numbers. (1)(2)\n",
    "\n",
    "rng = np.random.default_rng(0)\n",
    "samples = rng.exponential (scale= 1.0, size = 10000) \n",
    "\n",
    "# Then we define the variable \"y\" for the bar chart.\n",
    "y = samples\n",
    "\n",
    "#Finally we will plot the histogram and bar chart for the exponential distribution. \n",
    "fig, ax = plt.subplots()\n",
    "ax.hist(samples, bins=100)\n",
    "plt.title(\"Histogram\")\n",
    "plt.show()\n",
    "plt.bar(samples,y)\n",
    "plt.title(\"Bar chart\")\n",
    "plt.show()\n"
   ]
  },
  {
   "cell_type": "markdown",
   "id": "06fcd426",
   "metadata": {},
   "source": [
    "**Geometric distribution**"
   ]
  },
  {
   "cell_type": "markdown",
   "id": "e91f15d3",
   "metadata": {},
   "source": [
    "Same as before, we will use the rng.random_default_rng and then apply the right distribution. "
   ]
  },
  {
   "cell_type": "code",
   "execution_count": 45,
   "id": "07fbfc23",
   "metadata": {
    "scrolled": true
   },
   "outputs": [
    {
     "data": {
      "image/png": "[encoded data removed]",
      "text/plain": [
       "<Figure size 432x288 with 1 Axes>"
      ]
     },
     "metadata": {
      "needs_background": "light"
     },
     "output_type": "display_data"
    },
    {
     "data": {
      "image/png": "[encoded data removed]",
      "text/plain": [
       "<Figure size 432x288 with 1 Axes>"
      ]
     },
     "metadata": {
      "needs_background": "light"
     },
     "output_type": "display_data"
    }
   ],
   "source": [
    "rng = np.random.default_rng(0)\n",
    "samples = rng.geometric(0.3, size = 10000)\n",
    "y = samples\n",
    "fig, ax = plt.subplots()\n",
    "ax.hist(samples, bins=100)\n",
    "plt.title(\"Histogram\")\n",
    "plt.show()\n",
    "plt.bar(samples,y)\n",
    "plt.title(\"Bar chart\")\n",
    "plt.show()"
   ]
  },
  {
   "cell_type": "markdown",
   "id": "3065f3de",
   "metadata": {},
   "source": [
    "**Logistic distribution**"
   ]
  },
  {
   "cell_type": "code",
   "execution_count": 49,
   "id": "e007452e",
   "metadata": {
    "scrolled": true
   },
   "outputs": [
    {
     "data": {
      "image/png": "[encoded data removed]",
      "text/plain": [
       "<Figure size 432x288 with 1 Axes>"
      ]
     },
     "metadata": {
      "needs_background": "light"
     },
     "output_type": "display_data"
    },
    {
     "data": {
      "image/png": "[encoded data removed]",
      "text/plain": [
       "<Figure size 432x288 with 1 Axes>"
      ]
     },
     "metadata": {
      "needs_background": "light"
     },
     "output_type": "display_data"
    }
   ],
   "source": [
    "rng = np.random.default_rng(0)\n",
    "samples = rng.logistic(loc=0.0, scale=1.0, size = 10000)\n",
    "y = samples\n",
    "fig, ax = plt.subplots()\n",
    "ax.hist(samples, bins=100)\n",
    "plt.title(\"Histogram\")\n",
    "plt.show()\n",
    "plt.bar(samples,y)\n",
    "plt.title(\"Bar chart\")\n",
    "plt.show()"
   ]
  },
  {
   "cell_type": "markdown",
   "id": "fb5cf520",
   "metadata": {},
   "source": [
    "**Negative binomial distribution**"
   ]
  },
  {
   "cell_type": "code",
   "execution_count": 50,
   "id": "f739b387",
   "metadata": {
    "scrolled": false
   },
   "outputs": [
    {
     "data": {
      "image/png": "[encoded data removed]",
      "text/plain": [
       "<Figure size 432x288 with 1 Axes>"
      ]
     },
     "metadata": {
      "needs_background": "light"
     },
     "output_type": "display_data"
    },
    {
     "data": {
      "image/png": "[encoded data removed]",
      "text/plain": [
       "<Figure size 432x288 with 1 Axes>"
      ]
     },
     "metadata": {
      "needs_background": "light"
     },
     "output_type": "display_data"
    }
   ],
   "source": [
    "rng = np.random.default_rng(0)\n",
    "samples = np.random.default_rng().negative_binomial(1, 0.1, 100000)\n",
    "y = samples\n",
    "fig, ax = plt.subplots()\n",
    "ax.hist(samples, bins=100)\n",
    "plt.title(\"Histogram\")\n",
    "plt.show()\n",
    "plt.bar(samples,y)\n",
    "plt.title(\"Bar chart\")\n",
    "plt.show()"
   ]
  },
  {
   "cell_type": "markdown",
   "id": "1f37464f",
   "metadata": {},
   "source": [
    "**Laplace distribution**"
   ]
  },
  {
   "cell_type": "code",
   "execution_count": 51,
   "id": "eef04ee7",
   "metadata": {},
   "outputs": [
    {
     "data": {
      "image/png": "[encoded data removed]",
      "text/plain": [
       "<Figure size 432x288 with 1 Axes>"
      ]
     },
     "metadata": {
      "needs_background": "light"
     },
     "output_type": "display_data"
    },
    {
     "data": {
      "image/png": "[encoded data removed]",
      "text/plain": [
       "<Figure size 432x288 with 1 Axes>"
      ]
     },
     "metadata": {
      "needs_background": "light"
     },
     "output_type": "display_data"
    }
   ],
   "source": [
    "loc, scale = 0., 1.\n",
    "rng = np.random.default_rng(0)\n",
    "samples = np.random.default_rng().laplace(loc, scale, 10000)\n",
    "y = samples\n",
    "fig, ax = plt.subplots()\n",
    "ax.hist(samples, bins=100)\n",
    "plt.title(\"Histogram\")\n",
    "plt.show()\n",
    "plt.bar(samples,y)\n",
    "plt.title(\"Bar chart\")\n",
    "plt.show()"
   ]
  },
  {
   "cell_type": "markdown",
   "id": "7515810f",
   "metadata": {},
   "source": [
    "**STANDARD CAUCHY Distribution**"
   ]
  },
  {
   "cell_type": "code",
   "execution_count": 54,
   "id": "4e1574f4",
   "metadata": {},
   "outputs": [
    {
     "data": {
      "image/png": "[encoded data removed]",
      "text/plain": [
       "<Figure size 432x288 with 1 Axes>"
      ]
     },
     "metadata": {
      "needs_background": "light"
     },
     "output_type": "display_data"
    },
    {
     "data": {
      "image/png": "[encoded data removed]",
      "text/plain": [
       "<Figure size 432x288 with 1 Axes>"
      ]
     },
     "metadata": {
      "needs_background": "light"
     },
     "output_type": "display_data"
    }
   ],
   "source": [
    "rng = np.random.default_rng(0)\n",
    "s = np.random.default_rng().standard_cauchy(1000)\n",
    "s = s[(s>-25) & (s<25)]  # truncate distribution so it plots well\n",
    "y = s\n",
    "fig, ax = plt.subplots()\n",
    "ax.hist(s, bins=100)\n",
    "plt.title(\"Histogram\")\n",
    "plt.show()\n",
    "plt.bar(s,y)\n",
    "plt.title(\"Bar chart\")\n",
    "plt.show()"
   ]
  },
  {
   "cell_type": "markdown",
   "id": "3aaba3fa",
   "metadata": {},
   "source": [
    "**REFERENCES**"
   ]
  },
  {
   "cell_type": "markdown",
   "id": "f32e0bc5",
   "metadata": {},
   "source": [
    "1. https://numpy.org/doc/stable/reference/random/generator.html\n",
    "2. https://numpy.org/doc/stable/reference/random/generated/numpy.random.Generator.exponential.html#numpy.random.Generator.exponential\n",
    "3. https://numpy.org/doc/stable/reference/random/generated/numpy.random.Generator.geometric.html#numpy.random.Generator.geometric\n",
    "4.https://numpy.org/doc/stable/reference/random/generated/numpy.random.Generator.logistic.html#numpy.random.Generator.logistic\n",
    "5.https://numpy.org/doc/stable/reference/random/generated/numpy.random.Generator.negative_binomial.html#numpy.random.Generator.negative_binomial\n",
    "6.https://numpy.org/doc/stable/reference/random/generated/numpy.random.Generator.laplace.html#numpy.random.Generator.laplace\n",
    "7.https://numpy.org/doc/stable/reference/random/generated/numpy.random.Generator.standard_cauchy.html#numpy.random.Generator.standard_cauchy"
   ]
  },
  {
   "cell_type": "code",
   "execution_count": null,
   "id": "0f3dfc8d",
   "metadata": {},
   "outputs": [],
   "source": []
  },
  {
   "cell_type": "code",
   "execution_count": null,
   "id": "95b41ee4",
   "metadata": {},
   "outputs": [],
   "source": []
  }
 ],
 "metadata": {
  "kernelspec": {
   "display_name": "Python 3 (ipykernel)",
   "language": "python",
   "name": "python3"
  },
  "language_info": {
   "codemirror_mode": {
    "name": "ipython",
    "version": 3
   },
   "file_extension": ".py",
   "mimetype": "text/x-python",
   "name": "python",
   "nbconvert_exporter": "python",
   "pygments_lexer": "ipython3",
   "version": "3.9.7"
  }
 },
 "nbformat": 4,
 "nbformat_minor": 5
}
